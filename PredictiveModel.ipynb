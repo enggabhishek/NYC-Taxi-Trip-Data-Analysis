{
 "cells": [
  {
   "cell_type": "code",
   "execution_count": 1,
   "metadata": {},
   "outputs": [
    {
     "name": "stderr",
     "output_type": "stream",
     "text": [
      "C:\\Apps\\spark-3.4.0-bin-hadoop3\\python\\pyspark\\pandas\\__init__.py:50: UserWarning: 'PYARROW_IGNORE_TIMEZONE' environment variable was not set. It is required to set this environment variable to '1' in both driver and executor sides if you use pyarrow>=2.0.0. pandas-on-Spark will set it for you but it does not work if there is a Spark context already launched.\n",
      "  warnings.warn(\n"
     ]
    }
   ],
   "source": [
    "#Importing required librabries\n",
    "import pyspark.pandas as ps\n",
    "import numpy as np\n",
    "import matplotlib as plt\n",
    "import pandas as pd"
   ]
  },
  {
   "cell_type": "code",
   "execution_count": 2,
   "metadata": {},
   "outputs": [],
   "source": [
    "# List of Required Columns\n",
    "columns = ['request_datetime', 'on_scene_datetime', 'pickup_datetime',       'dropoff_datetime', 'PULocationID', 'DOLocationID', 'trip_miles',       'trip_time', 'base_passenger_fare', 'tolls', 'bcf', 'sales_tax',       'congestion_surcharge', 'airport_fee', 'tips', 'driver_pay']\n",
    "#,       'shared_request_flag', 'shared_match_flag', 'access_a_ride_flag',       'wav_request_flag', 'wav_match_flag']"
   ]
  },
  {
   "cell_type": "code",
   "execution_count": 3,
   "metadata": {},
   "outputs": [],
   "source": [
    "#Reading Zones data for join\n",
    "Data = pd.read_csv('final_df.csv', low_memory=False)"
   ]
  },
  {
   "cell_type": "code",
   "execution_count": 4,
   "metadata": {},
   "outputs": [
    {
     "data": {
      "text/html": [
       "<div>\n",
       "<style scoped>\n",
       "    .dataframe tbody tr th:only-of-type {\n",
       "        vertical-align: middle;\n",
       "    }\n",
       "\n",
       "    .dataframe tbody tr th {\n",
       "        vertical-align: top;\n",
       "    }\n",
       "\n",
       "    .dataframe thead th {\n",
       "        text-align: right;\n",
       "    }\n",
       "</style>\n",
       "<table border=\"1\" class=\"dataframe\">\n",
       "  <thead>\n",
       "    <tr style=\"text-align: right;\">\n",
       "      <th></th>\n",
       "      <th>Unnamed: 0</th>\n",
       "      <th>request_datetime</th>\n",
       "      <th>on_scene_datetime</th>\n",
       "      <th>pickup_datetime</th>\n",
       "      <th>dropoff_datetime</th>\n",
       "      <th>PULocationID</th>\n",
       "      <th>DOLocationID</th>\n",
       "      <th>trip_miles</th>\n",
       "      <th>trip_time</th>\n",
       "      <th>base_passenger_fare</th>\n",
       "      <th>...</th>\n",
       "      <th>sales_tax</th>\n",
       "      <th>congestion_surcharge</th>\n",
       "      <th>airport_fee</th>\n",
       "      <th>tips</th>\n",
       "      <th>driver_pay</th>\n",
       "      <th>LocationID_x</th>\n",
       "      <th>PUL_Zone</th>\n",
       "      <th>LocationID_y</th>\n",
       "      <th>DOL_Zone</th>\n",
       "      <th>PUL_Zone_to_DOL_Zone</th>\n",
       "    </tr>\n",
       "  </thead>\n",
       "  <tbody>\n",
       "    <tr>\n",
       "      <th>0</th>\n",
       "      <td>0</td>\n",
       "      <td>2023-02-01 00:12:17</td>\n",
       "      <td>2023-02-01 00:13:34</td>\n",
       "      <td>2023-02-01 00:15:34</td>\n",
       "      <td>2023-02-01 00:25:01</td>\n",
       "      <td>244</td>\n",
       "      <td>74</td>\n",
       "      <td>5.410</td>\n",
       "      <td>567</td>\n",
       "      <td>16.45</td>\n",
       "      <td>...</td>\n",
       "      <td>1.16</td>\n",
       "      <td>0.0</td>\n",
       "      <td>0.0</td>\n",
       "      <td>0.0</td>\n",
       "      <td>12.82</td>\n",
       "      <td>244</td>\n",
       "      <td>Washington Heights South</td>\n",
       "      <td>74</td>\n",
       "      <td>East Harlem North</td>\n",
       "      <td>Washington Heights South-East Harlem North</td>\n",
       "    </tr>\n",
       "    <tr>\n",
       "      <th>1</th>\n",
       "      <td>1</td>\n",
       "      <td>2023-02-01 00:54:30</td>\n",
       "      <td>2023-02-01 00:56:08</td>\n",
       "      <td>2023-02-01 00:58:08</td>\n",
       "      <td>2023-02-01 01:13:51</td>\n",
       "      <td>244</td>\n",
       "      <td>74</td>\n",
       "      <td>5.030</td>\n",
       "      <td>943</td>\n",
       "      <td>17.55</td>\n",
       "      <td>...</td>\n",
       "      <td>1.56</td>\n",
       "      <td>0.0</td>\n",
       "      <td>0.0</td>\n",
       "      <td>0.0</td>\n",
       "      <td>14.98</td>\n",
       "      <td>244</td>\n",
       "      <td>Washington Heights South</td>\n",
       "      <td>74</td>\n",
       "      <td>East Harlem North</td>\n",
       "      <td>Washington Heights South-East Harlem North</td>\n",
       "    </tr>\n",
       "    <tr>\n",
       "      <th>2</th>\n",
       "      <td>2</td>\n",
       "      <td>2023-02-01 00:43:55</td>\n",
       "      <td>2023-02-01 00:45:20</td>\n",
       "      <td>2023-02-01 00:47:13</td>\n",
       "      <td>2023-02-01 00:56:56</td>\n",
       "      <td>244</td>\n",
       "      <td>74</td>\n",
       "      <td>5.070</td>\n",
       "      <td>583</td>\n",
       "      <td>16.07</td>\n",
       "      <td>...</td>\n",
       "      <td>1.43</td>\n",
       "      <td>0.0</td>\n",
       "      <td>0.0</td>\n",
       "      <td>0.0</td>\n",
       "      <td>14.49</td>\n",
       "      <td>244</td>\n",
       "      <td>Washington Heights South</td>\n",
       "      <td>74</td>\n",
       "      <td>East Harlem North</td>\n",
       "      <td>Washington Heights South-East Harlem North</td>\n",
       "    </tr>\n",
       "    <tr>\n",
       "      <th>3</th>\n",
       "      <td>3</td>\n",
       "      <td>2023-02-01 00:27:38</td>\n",
       "      <td>NaN</td>\n",
       "      <td>2023-02-01 00:30:25</td>\n",
       "      <td>2023-02-01 00:38:14</td>\n",
       "      <td>244</td>\n",
       "      <td>74</td>\n",
       "      <td>3.152</td>\n",
       "      <td>469</td>\n",
       "      <td>11.26</td>\n",
       "      <td>...</td>\n",
       "      <td>1.02</td>\n",
       "      <td>0.0</td>\n",
       "      <td>0.0</td>\n",
       "      <td>0.0</td>\n",
       "      <td>9.46</td>\n",
       "      <td>244</td>\n",
       "      <td>Washington Heights South</td>\n",
       "      <td>74</td>\n",
       "      <td>East Harlem North</td>\n",
       "      <td>Washington Heights South-East Harlem North</td>\n",
       "    </tr>\n",
       "    <tr>\n",
       "      <th>4</th>\n",
       "      <td>4</td>\n",
       "      <td>2023-02-01 00:28:58</td>\n",
       "      <td>NaN</td>\n",
       "      <td>2023-02-01 00:32:48</td>\n",
       "      <td>2023-02-01 00:39:27</td>\n",
       "      <td>244</td>\n",
       "      <td>74</td>\n",
       "      <td>2.417</td>\n",
       "      <td>399</td>\n",
       "      <td>10.61</td>\n",
       "      <td>...</td>\n",
       "      <td>0.94</td>\n",
       "      <td>0.0</td>\n",
       "      <td>0.0</td>\n",
       "      <td>0.0</td>\n",
       "      <td>6.73</td>\n",
       "      <td>244</td>\n",
       "      <td>Washington Heights South</td>\n",
       "      <td>74</td>\n",
       "      <td>East Harlem North</td>\n",
       "      <td>Washington Heights South-East Harlem North</td>\n",
       "    </tr>\n",
       "  </tbody>\n",
       "</table>\n",
       "<p>5 rows × 22 columns</p>\n",
       "</div>"
      ],
      "text/plain": [
       "   Unnamed: 0     request_datetime    on_scene_datetime      pickup_datetime  \\\n",
       "0           0  2023-02-01 00:12:17  2023-02-01 00:13:34  2023-02-01 00:15:34   \n",
       "1           1  2023-02-01 00:54:30  2023-02-01 00:56:08  2023-02-01 00:58:08   \n",
       "2           2  2023-02-01 00:43:55  2023-02-01 00:45:20  2023-02-01 00:47:13   \n",
       "3           3  2023-02-01 00:27:38                  NaN  2023-02-01 00:30:25   \n",
       "4           4  2023-02-01 00:28:58                  NaN  2023-02-01 00:32:48   \n",
       "\n",
       "      dropoff_datetime  PULocationID  DOLocationID  trip_miles  trip_time  \\\n",
       "0  2023-02-01 00:25:01           244            74       5.410        567   \n",
       "1  2023-02-01 01:13:51           244            74       5.030        943   \n",
       "2  2023-02-01 00:56:56           244            74       5.070        583   \n",
       "3  2023-02-01 00:38:14           244            74       3.152        469   \n",
       "4  2023-02-01 00:39:27           244            74       2.417        399   \n",
       "\n",
       "   base_passenger_fare  ...  sales_tax  congestion_surcharge  airport_fee  \\\n",
       "0                16.45  ...       1.16                   0.0          0.0   \n",
       "1                17.55  ...       1.56                   0.0          0.0   \n",
       "2                16.07  ...       1.43                   0.0          0.0   \n",
       "3                11.26  ...       1.02                   0.0          0.0   \n",
       "4                10.61  ...       0.94                   0.0          0.0   \n",
       "\n",
       "   tips  driver_pay  LocationID_x                  PUL_Zone  LocationID_y  \\\n",
       "0   0.0       12.82           244  Washington Heights South            74   \n",
       "1   0.0       14.98           244  Washington Heights South            74   \n",
       "2   0.0       14.49           244  Washington Heights South            74   \n",
       "3   0.0        9.46           244  Washington Heights South            74   \n",
       "4   0.0        6.73           244  Washington Heights South            74   \n",
       "\n",
       "            DOL_Zone                        PUL_Zone_to_DOL_Zone  \n",
       "0  East Harlem North  Washington Heights South-East Harlem North  \n",
       "1  East Harlem North  Washington Heights South-East Harlem North  \n",
       "2  East Harlem North  Washington Heights South-East Harlem North  \n",
       "3  East Harlem North  Washington Heights South-East Harlem North  \n",
       "4  East Harlem North  Washington Heights South-East Harlem North  \n",
       "\n",
       "[5 rows x 22 columns]"
      ]
     },
     "execution_count": 4,
     "metadata": {},
     "output_type": "execute_result"
    }
   ],
   "source": [
    "Data.head()"
   ]
  },
  {
   "cell_type": "code",
   "execution_count": 5,
   "metadata": {
    "application/vnd.databricks.v1+cell": {
     "cellMetadata": {
      "byteLimit": 2048000,
      "rowLimit": 10000
     },
     "inputWidgets": {},
     "nuid": "2ca75f1a-8d12-4f28-ad21-03040e5a6598",
     "showTitle": false,
     "title": ""
    }
   },
   "outputs": [],
   "source": [
    "#Importing Libraries we will use for data processing and ML model \n",
    "import seaborn as sns\n",
    "import matplotlib.pyplot as plt\n",
    "import datetime as dt\n",
    "from sklearn.decomposition import PCA\n",
    "from sklearn.linear_model import LinearRegression\n",
    "from sklearn.tree import DecisionTreeRegressor\n",
    "from sklearn.ensemble import RandomForestRegressor\n",
    "from sklearn.ensemble import AdaBoostRegressor\n",
    "from sklearn.ensemble import GradientBoostingRegressor\n",
    "from xgboost import XGBRegressor\n",
    "from sklearn import metrics\n",
    "from sklearn.model_selection import train_test_split\n",
    "from sklearn.metrics import r2_score\n",
    "import time\n",
    "from IPython.display import clear_output"
   ]
  },
  {
   "cell_type": "code",
   "execution_count": 6,
   "metadata": {
    "application/vnd.databricks.v1+cell": {
     "cellMetadata": {
      "byteLimit": 2048000,
      "rowLimit": 10000
     },
     "inputWidgets": {},
     "nuid": "8f2602e9-7f0b-4ded-8dd5-63780a67bf25",
     "showTitle": false,
     "title": ""
    }
   },
   "outputs": [
    {
     "data": {
      "text/plain": [
       "(17960971, 22)"
      ]
     },
     "execution_count": 6,
     "metadata": {},
     "output_type": "execute_result"
    }
   ],
   "source": [
    "# Checking the number of rows and columns\n",
    "Data.shape"
   ]
  },
  {
   "cell_type": "code",
   "execution_count": 7,
   "metadata": {
    "application/vnd.databricks.v1+cell": {
     "cellMetadata": {
      "byteLimit": 2048000,
      "rowLimit": 10000
     },
     "inputWidgets": {},
     "nuid": "eaa0d46b-a651-4714-800d-15c8ed824244",
     "showTitle": false,
     "title": ""
    }
   },
   "outputs": [
    {
     "data": {
      "text/plain": [
       "Unnamed: 0                    0\n",
       "request_datetime              0\n",
       "on_scene_datetime       4673541\n",
       "pickup_datetime               0\n",
       "dropoff_datetime              0\n",
       "PULocationID                  0\n",
       "DOLocationID                  0\n",
       "trip_miles                    0\n",
       "trip_time                     0\n",
       "base_passenger_fare           0\n",
       "tolls                         0\n",
       "bcf                           0\n",
       "sales_tax                     0\n",
       "congestion_surcharge          0\n",
       "airport_fee                   0\n",
       "tips                          0\n",
       "driver_pay                    0\n",
       "LocationID_x                  0\n",
       "PUL_Zone                    890\n",
       "LocationID_y                  0\n",
       "DOL_Zone                 682678\n",
       "PUL_Zone_to_DOL_Zone     683292\n",
       "dtype: int64"
      ]
     },
     "execution_count": 7,
     "metadata": {},
     "output_type": "execute_result"
    }
   ],
   "source": [
    "# Looking for null values in each row \n",
    "Data.isnull().sum()"
   ]
  },
  {
   "cell_type": "code",
   "execution_count": 8,
   "metadata": {
    "application/vnd.databricks.v1+cell": {
     "cellMetadata": {
      "byteLimit": 2048000,
      "rowLimit": 10000
     },
     "inputWidgets": {},
     "nuid": "fe3dc70c-9c08-41cf-876c-ebafb455b285",
     "showTitle": false,
     "title": ""
    }
   },
   "outputs": [],
   "source": [
    "# Dropping rows with null values\n",
    "data = Data.dropna()"
   ]
  },
  {
   "cell_type": "code",
   "execution_count": 9,
   "metadata": {},
   "outputs": [],
   "source": [
    "del Data"
   ]
  },
  {
   "cell_type": "code",
   "execution_count": 10,
   "metadata": {
    "application/vnd.databricks.v1+cell": {
     "cellMetadata": {
      "byteLimit": 2048000,
      "rowLimit": 10000
     },
     "inputWidgets": {},
     "nuid": "f603d69c-90d9-48a9-9413-a221c693b5a0",
     "showTitle": false,
     "title": ""
    }
   },
   "outputs": [],
   "source": [
    "# This command will supress warning raised when chained assignments are used\n",
    "pd.options.mode.chained_assignment = None"
   ]
  },
  {
   "cell_type": "code",
   "execution_count": 11,
   "metadata": {},
   "outputs": [
    {
     "data": {
      "text/plain": [
       "Index(['Unnamed: 0', 'request_datetime', 'on_scene_datetime',\n",
       "       'pickup_datetime', 'dropoff_datetime', 'PULocationID', 'DOLocationID',\n",
       "       'trip_miles', 'trip_time', 'base_passenger_fare', 'tolls', 'bcf',\n",
       "       'sales_tax', 'congestion_surcharge', 'airport_fee', 'tips',\n",
       "       'driver_pay', 'LocationID_x', 'PUL_Zone', 'LocationID_y', 'DOL_Zone',\n",
       "       'PUL_Zone_to_DOL_Zone'],\n",
       "      dtype='object')"
      ]
     },
     "execution_count": 11,
     "metadata": {},
     "output_type": "execute_result"
    }
   ],
   "source": [
    "data.columns"
   ]
  },
  {
   "cell_type": "code",
   "execution_count": 12,
   "metadata": {
    "application/vnd.databricks.v1+cell": {
     "cellMetadata": {
      "byteLimit": 2048000,
      "rowLimit": 10000
     },
     "inputWidgets": {},
     "nuid": "51a54843-a57d-480a-aa62-73772c6a1b11",
     "showTitle": false,
     "title": ""
    }
   },
   "outputs": [],
   "source": [
    "#Converting pickup datetime and dropoff datetime to datetime format \n",
    "data['pickup_datetime'] = pd.to_datetime(data['pickup_datetime'])\n",
    "data['dropoff_datetime'] = pd.to_datetime(data['dropoff_datetime'])"
   ]
  },
  {
   "cell_type": "code",
   "execution_count": 13,
   "metadata": {
    "application/vnd.databricks.v1+cell": {
     "cellMetadata": {
      "byteLimit": 2048000,
      "rowLimit": 10000
     },
     "inputWidgets": {},
     "nuid": "2320c9d9-9d10-4bf7-aaf8-f4f366954a6c",
     "showTitle": false,
     "title": ""
    }
   },
   "outputs": [],
   "source": [
    "# Creating new columns named weekday number and pickup hour\n",
    "data['weekday_num'] = data.pickup_datetime.dt.weekday\n",
    "data['pickup_hour'] = data.pickup_datetime.dt.hour"
   ]
  },
  {
   "cell_type": "markdown",
   "metadata": {
    "application/vnd.databricks.v1+cell": {
     "cellMetadata": {
      "byteLimit": 2048000,
      "rowLimit": 10000
     },
     "inputWidgets": {},
     "nuid": "362b2aaf-a5f9-43c2-afbf-c5cc356964af",
     "showTitle": false,
     "title": ""
    }
   },
   "source": [
    "DATA CLEANING"
   ]
  },
  {
   "cell_type": "code",
   "execution_count": null,
   "metadata": {},
   "outputs": [],
   "source": [
    "zone_counts = data.groupby(['PUL_Zone_to_DOL_Zone','DOL_Zone']).size().unstack()\n",
    "#Select top 10 'sourceIps' values with the highest counts\n",
    "top10_zones = zone_counts.sum(axis=1).nlargest(10).index"
   ]
  },
  {
   "cell_type": "code",
   "execution_count": null,
   "metadata": {
    "application/vnd.databricks.v1+cell": {
     "cellMetadata": {
      "byteLimit": 2048000,
      "rowLimit": 10000
     },
     "inputWidgets": {},
     "nuid": "7867fe04-fe87-4953-9d76-12a2a2a8623c",
     "showTitle": false,
     "title": ""
    }
   },
   "outputs": [],
   "source": [
    "# Filtering the data with passengers more than zero and less than nine\n",
    "data = data[data['PUL_Zone_to_DOL_Zone'].isin(top10_zones)]"
   ]
  },
  {
   "cell_type": "code",
   "execution_count": 19,
   "metadata": {},
   "outputs": [
    {
     "data": {
      "text/plain": [
       "Index(['Unnamed: 0', 'request_datetime', 'on_scene_datetime',\n",
       "       'pickup_datetime', 'dropoff_datetime', 'PULocationID', 'DOLocationID',\n",
       "       'trip_miles', 'trip_time', 'base_passenger_fare', 'tolls', 'bcf',\n",
       "       'sales_tax', 'congestion_surcharge', 'airport_fee', 'tips',\n",
       "       'driver_pay', 'LocationID_x', 'PUL_Zone', 'LocationID_y', 'DOL_Zone',\n",
       "       'PUL_Zone_to_DOL_Zone', 'weekday_num', 'pickup_hour', 'total_amount'],\n",
       "      dtype='object')"
      ]
     },
     "execution_count": 19,
     "metadata": {},
     "output_type": "execute_result"
    }
   ],
   "source": [
    "data.columns"
   ]
  },
  {
   "cell_type": "code",
   "execution_count": 16,
   "metadata": {},
   "outputs": [],
   "source": [
    "data['total_amount'] = data['base_passenger_fare'] + data['tolls'] + data['bcf'] + data['sales_tax'] + data['sales_tax'] + data['congestion_surcharge'] + data['airport_fee'] + data ['tips'] + data['driver_pay']"
   ]
  },
  {
   "cell_type": "code",
   "execution_count": 17,
   "metadata": {},
   "outputs": [],
   "source": [
    "# Filtering the data with trip distance greater than zero\n",
    "data = data[data['trip_miles']>=0]"
   ]
  },
  {
   "cell_type": "code",
   "execution_count": 18,
   "metadata": {},
   "outputs": [],
   "source": [
    "# Filtering the data with trip duration greater than zero\n",
    "data = data[data['trip_time']>=0]"
   ]
  },
  {
   "cell_type": "code",
   "execution_count": null,
   "metadata": {},
   "outputs": [],
   "source": [
    "#Creating dummy variables for 'HTTP Method','time_period','Resource' variables==============(By Rahul Agarwal)\n",
    "data1 = pd.get_dummies(data, columns=['ZonePU-DP'])"
   ]
  },
  {
   "cell_type": "code",
   "execution_count": 20,
   "metadata": {
    "application/vnd.databricks.v1+cell": {
     "cellMetadata": {
      "byteLimit": 2048000,
      "rowLimit": 10000
     },
     "inputWidgets": {},
     "nuid": "4ceda46d-134a-40b7-8e26-c4fe97fb8969",
     "showTitle": false,
     "title": ""
    }
   },
   "outputs": [],
   "source": [
    "# Droping columns which are not necessary for The ML models\n",
    "data1=data.drop(['Unnamed: 0','on_scene_datetime','pickup_datetime','dropoff_datetime','request_datetime','base_passenger_fare', 'tolls', 'bcf',\n",
    "       'sales_tax', 'congestion_surcharge', 'airport_fee', 'tips',\n",
    "       'driver_pay', 'LocationID_x', 'PUL_Zone', 'LocationID_y', 'DOL_Zone',\n",
    "       'PUL_Zone_to_DOL_Zone'], axis=1)"
   ]
  },
  {
   "cell_type": "code",
   "execution_count": 21,
   "metadata": {
    "application/vnd.databricks.v1+cell": {
     "cellMetadata": {
      "byteLimit": 2048000,
      "rowLimit": 10000
     },
     "inputWidgets": {},
     "nuid": "5049cbfb-4850-49bd-a05a-0e874f503c19",
     "showTitle": false,
     "title": ""
    }
   },
   "outputs": [
    {
     "data": {
      "text/html": [
       "<div>\n",
       "<style scoped>\n",
       "    .dataframe tbody tr th:only-of-type {\n",
       "        vertical-align: middle;\n",
       "    }\n",
       "\n",
       "    .dataframe tbody tr th {\n",
       "        vertical-align: top;\n",
       "    }\n",
       "\n",
       "    .dataframe thead th {\n",
       "        text-align: right;\n",
       "    }\n",
       "</style>\n",
       "<table border=\"1\" class=\"dataframe\">\n",
       "  <thead>\n",
       "    <tr style=\"text-align: right;\">\n",
       "      <th></th>\n",
       "      <th>PULocationID</th>\n",
       "      <th>DOLocationID</th>\n",
       "      <th>trip_miles</th>\n",
       "      <th>trip_time</th>\n",
       "      <th>weekday_num</th>\n",
       "      <th>pickup_hour</th>\n",
       "      <th>total_amount</th>\n",
       "    </tr>\n",
       "  </thead>\n",
       "  <tbody>\n",
       "    <tr>\n",
       "      <th>0</th>\n",
       "      <td>244</td>\n",
       "      <td>74</td>\n",
       "      <td>5.41</td>\n",
       "      <td>567</td>\n",
       "      <td>2</td>\n",
       "      <td>0</td>\n",
       "      <td>31.98</td>\n",
       "    </tr>\n",
       "    <tr>\n",
       "      <th>1</th>\n",
       "      <td>244</td>\n",
       "      <td>74</td>\n",
       "      <td>5.03</td>\n",
       "      <td>943</td>\n",
       "      <td>2</td>\n",
       "      <td>0</td>\n",
       "      <td>36.18</td>\n",
       "    </tr>\n",
       "    <tr>\n",
       "      <th>2</th>\n",
       "      <td>244</td>\n",
       "      <td>74</td>\n",
       "      <td>5.07</td>\n",
       "      <td>583</td>\n",
       "      <td>2</td>\n",
       "      <td>0</td>\n",
       "      <td>33.90</td>\n",
       "    </tr>\n",
       "    <tr>\n",
       "      <th>6</th>\n",
       "      <td>244</td>\n",
       "      <td>74</td>\n",
       "      <td>3.99</td>\n",
       "      <td>581</td>\n",
       "      <td>2</td>\n",
       "      <td>4</td>\n",
       "      <td>28.24</td>\n",
       "    </tr>\n",
       "    <tr>\n",
       "      <th>7</th>\n",
       "      <td>244</td>\n",
       "      <td>74</td>\n",
       "      <td>3.38</td>\n",
       "      <td>657</td>\n",
       "      <td>2</td>\n",
       "      <td>5</td>\n",
       "      <td>31.11</td>\n",
       "    </tr>\n",
       "    <tr>\n",
       "      <th>10</th>\n",
       "      <td>244</td>\n",
       "      <td>74</td>\n",
       "      <td>3.24</td>\n",
       "      <td>678</td>\n",
       "      <td>2</td>\n",
       "      <td>6</td>\n",
       "      <td>29.40</td>\n",
       "    </tr>\n",
       "    <tr>\n",
       "      <th>11</th>\n",
       "      <td>244</td>\n",
       "      <td>74</td>\n",
       "      <td>3.66</td>\n",
       "      <td>1110</td>\n",
       "      <td>2</td>\n",
       "      <td>7</td>\n",
       "      <td>35.61</td>\n",
       "    </tr>\n",
       "    <tr>\n",
       "      <th>12</th>\n",
       "      <td>244</td>\n",
       "      <td>74</td>\n",
       "      <td>2.51</td>\n",
       "      <td>1102</td>\n",
       "      <td>2</td>\n",
       "      <td>7</td>\n",
       "      <td>42.84</td>\n",
       "    </tr>\n",
       "    <tr>\n",
       "      <th>14</th>\n",
       "      <td>244</td>\n",
       "      <td>74</td>\n",
       "      <td>4.06</td>\n",
       "      <td>1885</td>\n",
       "      <td>2</td>\n",
       "      <td>7</td>\n",
       "      <td>54.94</td>\n",
       "    </tr>\n",
       "    <tr>\n",
       "      <th>15</th>\n",
       "      <td>244</td>\n",
       "      <td>74</td>\n",
       "      <td>3.89</td>\n",
       "      <td>1446</td>\n",
       "      <td>2</td>\n",
       "      <td>7</td>\n",
       "      <td>53.71</td>\n",
       "    </tr>\n",
       "  </tbody>\n",
       "</table>\n",
       "</div>"
      ],
      "text/plain": [
       "    PULocationID  DOLocationID  trip_miles  trip_time  weekday_num  \\\n",
       "0            244            74        5.41        567            2   \n",
       "1            244            74        5.03        943            2   \n",
       "2            244            74        5.07        583            2   \n",
       "6            244            74        3.99        581            2   \n",
       "7            244            74        3.38        657            2   \n",
       "10           244            74        3.24        678            2   \n",
       "11           244            74        3.66       1110            2   \n",
       "12           244            74        2.51       1102            2   \n",
       "14           244            74        4.06       1885            2   \n",
       "15           244            74        3.89       1446            2   \n",
       "\n",
       "    pickup_hour  total_amount  \n",
       "0             0         31.98  \n",
       "1             0         36.18  \n",
       "2             0         33.90  \n",
       "6             4         28.24  \n",
       "7             5         31.11  \n",
       "10            6         29.40  \n",
       "11            7         35.61  \n",
       "12            7         42.84  \n",
       "14            7         54.94  \n",
       "15            7         53.71  "
      ]
     },
     "execution_count": 21,
     "metadata": {},
     "output_type": "execute_result"
    }
   ],
   "source": [
    "# Quick look at the Data\n",
    "data1.head(10)"
   ]
  },
  {
   "cell_type": "code",
   "execution_count": 22,
   "metadata": {
    "application/vnd.databricks.v1+cell": {
     "cellMetadata": {
      "byteLimit": 2048000,
      "rowLimit": 10000
     },
     "inputWidgets": {},
     "nuid": "c96d4713-d7e3-4806-b5ad-a31dda96cbf8",
     "showTitle": false,
     "title": ""
    }
   },
   "outputs": [
    {
     "data": {
      "text/plain": [
       "PULocationID      int64\n",
       "DOLocationID      int64\n",
       "trip_miles      float64\n",
       "trip_time         int64\n",
       "weekday_num       int64\n",
       "pickup_hour       int64\n",
       "total_amount    float64\n",
       "dtype: object"
      ]
     },
     "execution_count": 22,
     "metadata": {},
     "output_type": "execute_result"
    }
   ],
   "source": [
    "# Looking at the data types\n",
    "data1.dtypes"
   ]
  },
  {
   "cell_type": "markdown",
   "metadata": {
    "application/vnd.databricks.v1+cell": {
     "cellMetadata": {
      "byteLimit": 2048000,
      "rowLimit": 10000
     },
     "inputWidgets": {},
     "nuid": "ebeb50b6-93b4-43dd-a353-3b0cae6ae48a",
     "showTitle": false,
     "title": ""
    }
   },
   "source": [
    "ML USE CASE\n",
    "\n",
    "We will try and predict the taxi fares for the ride depending on the day and time of the ride and also the Pickup and drop off location IDs and trip distance"
   ]
  },
  {
   "cell_type": "code",
   "execution_count": 23,
   "metadata": {
    "application/vnd.databricks.v1+cell": {
     "cellMetadata": {
      "byteLimit": 2048000,
      "rowLimit": 10000
     },
     "inputWidgets": {},
     "nuid": "370ff57b-05f3-462f-a348-5faae75c9fd8",
     "showTitle": false,
     "title": ""
    }
   },
   "outputs": [],
   "source": [
    "#Spliting the data into test and train\n",
    "# We are going to use trip distance, PULocationID, DOLocationID, Weekday number and Pickup Hour as the feature elements to predict Taxi fares\n",
    "# passenger_count,PULocationID,DOLocationID,weekday_num,pickup_hour\n",
    "x = data1.iloc[:, [0,1,2,3,4,5]].values\n",
    "y = data1.iloc[:,6].values\n",
    "x_train, x_test, y_train, y_test = train_test_split(x, y, test_size=0.2,random_state = 7294)"
   ]
  },
  {
   "cell_type": "code",
   "execution_count": 24,
   "metadata": {
    "application/vnd.databricks.v1+cell": {
     "cellMetadata": {
      "byteLimit": 2048000,
      "rowLimit": 10000
     },
     "inputWidgets": {},
     "nuid": "7b8c65a3-c054-44c9-983f-35869ad42e55",
     "showTitle": false,
     "title": ""
    }
   },
   "outputs": [
    {
     "data": {
      "image/png": "[encoded data removed]",
      "text/plain": [
       "<Figure size 640x480 with 1 Axes>"
      ]
     },
     "metadata": {},
     "output_type": "display_data"
    }
   ],
   "source": [
    "# Uisng PCA to determine necessary number of components for the model to yeild a better result\n",
    "from sklearn.decomposition import PCA\n",
    "pca = PCA().fit(x_train)\n",
    "plt.plot(np.cumsum(pca.explained_variance_ratio_))\n",
    "plt.xlabel(\"number of components\")\n",
    "plt.ylabel(\"Cumulative explained variance\")\n",
    "plt.show()"
   ]
  },
  {
   "cell_type": "code",
   "execution_count": 25,
   "metadata": {
    "application/vnd.databricks.v1+cell": {
     "cellMetadata": {
      "byteLimit": 2048000,
      "rowLimit": 10000
     },
     "inputWidgets": {},
     "nuid": "9b8064ee-b3fb-4ee9-a1c6-52a8442006fd",
     "showTitle": false,
     "title": ""
    }
   },
   "outputs": [
    {
     "data": {
      "text/plain": [
       "[(1, 97.81),\n",
       " (2, 99.04),\n",
       " (3, 99.99000000000001),\n",
       " (4, 100.00000000000001),\n",
       " (5, 100.00000000000001)]"
      ]
     },
     "execution_count": 25,
     "metadata": {},
     "output_type": "execute_result"
    }
   ],
   "source": [
    "arr = np.cumsum(np.round(pca.explained_variance_ratio_, decimals=4)*100)\n",
    "list(zip(range(1,len(arr)), arr))"
   ]
  },
  {
   "cell_type": "code",
   "execution_count": 26,
   "metadata": {
    "application/vnd.databricks.v1+cell": {
     "cellMetadata": {
      "byteLimit": 2048000,
      "rowLimit": 10000
     },
     "inputWidgets": {},
     "nuid": "7ef30cff-ba0d-4497-bac4-9596d9009c70",
     "showTitle": false,
     "title": ""
    }
   },
   "outputs": [
    {
     "data": {
      "image/png": "[encoded data removed]",
      "text/plain": [
       "<Figure size 1200x1200 with 2 Axes>"
      ]
     },
     "metadata": {},
     "output_type": "display_data"
    }
   ],
   "source": [
    "# Plotting the heatmap to understand the correlation between the factors\n",
    "\n",
    "plt.figure(figsize=(12,12))\n",
    "corr = pd.DataFrame(x_train[:,0:]).corr()\n",
    "corr.index = pd.DataFrame(x_train[:,0:]).columns\n",
    "sns.heatmap(corr, cmap='RdYlGn', vmin=-1, vmax=1, square=True)\n",
    "plt.title(\"Correlation Heatmap\", fontsize=16)\n",
    "plt.show()"
   ]
  },
  {
   "cell_type": "code",
   "execution_count": 27,
   "metadata": {
    "application/vnd.databricks.v1+cell": {
     "cellMetadata": {
      "byteLimit": 2048000,
      "rowLimit": 10000
     },
     "inputWidgets": {},
     "nuid": "d6a45d71-77bf-4ab2-aaf8-b69bd5274fb3",
     "showTitle": false,
     "title": ""
    }
   },
   "outputs": [
    {
     "name": "stdout",
     "output_type": "stream",
     "text": [
      "Time taken to train linear regression model : 2.307380437850952 seconds\n"
     ]
    }
   ],
   "source": [
    "# Running The Linear regression model\n",
    "start_time = time.time()\n",
    "lm_regression = LinearRegression()\n",
    "lm_regression = lm_regression.fit(x_train, y_train)\n",
    "end_time = time.time()\n",
    "lm_time = (end_time - start_time)\n",
    "print(f\"Time taken to train linear regression model : {lm_time} seconds\")"
   ]
  },
  {
   "cell_type": "code",
   "execution_count": 28,
   "metadata": {
    "application/vnd.databricks.v1+cell": {
     "cellMetadata": {
      "byteLimit": 2048000,
      "rowLimit": 10000
     },
     "inputWidgets": {},
     "nuid": "cf4cccb6-f5c1-46db-aec5-6bb8cf59dfda",
     "showTitle": false,
     "title": ""
    }
   },
   "outputs": [],
   "source": [
    "lm_regression_trips = lm_regression.predict(x_test)"
   ]
  },
  {
   "cell_type": "code",
   "execution_count": 29,
   "metadata": {
    "application/vnd.databricks.v1+cell": {
     "cellMetadata": {
      "byteLimit": 2048000,
      "rowLimit": 10000
     },
     "inputWidgets": {},
     "nuid": "d38faafe-81e1-4fb3-aeff-6797fa6dc71c",
     "showTitle": false,
     "title": ""
    }
   },
   "outputs": [
    {
     "data": {
      "text/html": [
       "<div>\n",
       "<style scoped>\n",
       "    .dataframe tbody tr th:only-of-type {\n",
       "        vertical-align: middle;\n",
       "    }\n",
       "\n",
       "    .dataframe tbody tr th {\n",
       "        vertical-align: top;\n",
       "    }\n",
       "\n",
       "    .dataframe thead th {\n",
       "        text-align: right;\n",
       "    }\n",
       "</style>\n",
       "<table border=\"1\" class=\"dataframe\">\n",
       "  <thead>\n",
       "    <tr style=\"text-align: right;\">\n",
       "      <th></th>\n",
       "      <th>Actual</th>\n",
       "      <th>Predicted</th>\n",
       "    </tr>\n",
       "  </thead>\n",
       "  <tbody>\n",
       "    <tr>\n",
       "      <th>0</th>\n",
       "      <td>38.10</td>\n",
       "      <td>46.059519</td>\n",
       "    </tr>\n",
       "    <tr>\n",
       "      <th>1</th>\n",
       "      <td>24.19</td>\n",
       "      <td>24.389734</td>\n",
       "    </tr>\n",
       "    <tr>\n",
       "      <th>2</th>\n",
       "      <td>36.35</td>\n",
       "      <td>34.731754</td>\n",
       "    </tr>\n",
       "    <tr>\n",
       "      <th>3</th>\n",
       "      <td>23.37</td>\n",
       "      <td>25.307870</td>\n",
       "    </tr>\n",
       "    <tr>\n",
       "      <th>4</th>\n",
       "      <td>25.69</td>\n",
       "      <td>32.782064</td>\n",
       "    </tr>\n",
       "    <tr>\n",
       "      <th>...</th>\n",
       "      <td>...</td>\n",
       "      <td>...</td>\n",
       "    </tr>\n",
       "    <tr>\n",
       "      <th>2557898</th>\n",
       "      <td>29.00</td>\n",
       "      <td>33.148645</td>\n",
       "    </tr>\n",
       "    <tr>\n",
       "      <th>2557899</th>\n",
       "      <td>22.18</td>\n",
       "      <td>24.709217</td>\n",
       "    </tr>\n",
       "    <tr>\n",
       "      <th>2557900</th>\n",
       "      <td>21.16</td>\n",
       "      <td>24.059083</td>\n",
       "    </tr>\n",
       "    <tr>\n",
       "      <th>2557901</th>\n",
       "      <td>14.46</td>\n",
       "      <td>12.053712</td>\n",
       "    </tr>\n",
       "    <tr>\n",
       "      <th>2557902</th>\n",
       "      <td>39.85</td>\n",
       "      <td>40.218621</td>\n",
       "    </tr>\n",
       "  </tbody>\n",
       "</table>\n",
       "<p>2557903 rows × 2 columns</p>\n",
       "</div>"
      ],
      "text/plain": [
       "         Actual  Predicted\n",
       "0         38.10  46.059519\n",
       "1         24.19  24.389734\n",
       "2         36.35  34.731754\n",
       "3         23.37  25.307870\n",
       "4         25.69  32.782064\n",
       "...         ...        ...\n",
       "2557898   29.00  33.148645\n",
       "2557899   22.18  24.709217\n",
       "2557900   21.16  24.059083\n",
       "2557901   14.46  12.053712\n",
       "2557902   39.85  40.218621\n",
       "\n",
       "[2557903 rows x 2 columns]"
      ]
     },
     "execution_count": 29,
     "metadata": {},
     "output_type": "execute_result"
    }
   ],
   "source": [
    "# Generating prediction for Linear Regression model\n",
    "predictions = pd.DataFrame({'Actual': y_test.flatten(), 'Predicted': lm_regression_trips.flatten()})\n",
    "predictions"
   ]
  },
  {
   "cell_type": "code",
   "execution_count": 30,
   "metadata": {
    "application/vnd.databricks.v1+cell": {
     "cellMetadata": {
      "byteLimit": 2048000,
      "rowLimit": 10000
     },
     "inputWidgets": {},
     "nuid": "c3bc2574-9bfa-4cfa-8f0f-e135af475adc",
     "showTitle": false,
     "title": ""
    }
   },
   "outputs": [
    {
     "data": {
      "image/png": "[encoded data removed]",
      "text/plain": [
       "<Figure size 1400x800 with 1 Axes>"
      ]
     },
     "metadata": {},
     "output_type": "display_data"
    }
   ],
   "source": [
    "#Plotting Actuall vs Predicted Values\n",
    "predictions.sample(20).plot(kind='bar',figsize=(14,8))\n",
    "plt.grid(which='major', linestyle='-', linewidth='0.5', color='green')\n",
    "plt.grid(which='minor', linestyle=':', linewidth='0.5', color='black')\n",
    "plt.show()"
   ]
  },
  {
   "cell_type": "code",
   "execution_count": 31,
   "metadata": {
    "application/vnd.databricks.v1+cell": {
     "cellMetadata": {
      "byteLimit": 2048000,
      "rowLimit": 10000
     },
     "inputWidgets": {},
     "nuid": "ba9e4882-770e-48c1-91e8-78bef30ee545",
     "showTitle": false,
     "title": ""
    }
   },
   "outputs": [
    {
     "name": "stdout",
     "output_type": "stream",
     "text": [
      "0.8546116135900236\n"
     ]
    }
   ],
   "source": [
    "#Getting The R Squared Value\n",
    "lm_score = r2_score(y_test, lm_regression_trips)\n",
    "print(lm_score)"
   ]
  },
  {
   "cell_type": "code",
   "execution_count": 32,
   "metadata": {
    "application/vnd.databricks.v1+cell": {
     "cellMetadata": {
      "byteLimit": 2048000,
      "rowLimit": 10000
     },
     "inputWidgets": {},
     "nuid": "c866e6c0-04ba-4146-928f-5b544c663e95",
     "showTitle": false,
     "title": ""
    }
   },
   "outputs": [
    {
     "name": "stdout",
     "output_type": "stream",
     "text": [
      "Time taken to train Decision tree model : 90.06848382949829 seconds\n"
     ]
    }
   ],
   "source": [
    "# Running the Decision Tree Regressor\n",
    "start_time = time.time()\n",
    "dt_regression = DecisionTreeRegressor()\n",
    "dt_regression = dt_regression.fit(x_train, y_train)\n",
    "end_time = time.time()\n",
    "dt_time = (end_time - start_time)\n",
    "print(f\"Time taken to train Decision tree model : {dt_time} seconds\")"
   ]
  },
  {
   "cell_type": "code",
   "execution_count": 33,
   "metadata": {
    "application/vnd.databricks.v1+cell": {
     "cellMetadata": {
      "byteLimit": 2048000,
      "rowLimit": 10000
     },
     "inputWidgets": {},
     "nuid": "2836c645-a003-4e8c-9378-59111d1ab780",
     "showTitle": false,
     "title": ""
    }
   },
   "outputs": [],
   "source": [
    "dt_regression_trips = dt_regression.predict(x_test)"
   ]
  },
  {
   "cell_type": "code",
   "execution_count": 34,
   "metadata": {
    "application/vnd.databricks.v1+cell": {
     "cellMetadata": {
      "byteLimit": 2048000,
      "rowLimit": 10000
     },
     "inputWidgets": {},
     "nuid": "ee49414b-d57a-4eb4-9077-b598a5939747",
     "showTitle": false,
     "title": ""
    }
   },
   "outputs": [
    {
     "data": {
      "text/html": [
       "<div>\n",
       "<style scoped>\n",
       "    .dataframe tbody tr th:only-of-type {\n",
       "        vertical-align: middle;\n",
       "    }\n",
       "\n",
       "    .dataframe tbody tr th {\n",
       "        vertical-align: top;\n",
       "    }\n",
       "\n",
       "    .dataframe thead th {\n",
       "        text-align: right;\n",
       "    }\n",
       "</style>\n",
       "<table border=\"1\" class=\"dataframe\">\n",
       "  <thead>\n",
       "    <tr style=\"text-align: right;\">\n",
       "      <th></th>\n",
       "      <th>Actual</th>\n",
       "      <th>Predicted</th>\n",
       "    </tr>\n",
       "  </thead>\n",
       "  <tbody>\n",
       "    <tr>\n",
       "      <th>0</th>\n",
       "      <td>38.10</td>\n",
       "      <td>41.65</td>\n",
       "    </tr>\n",
       "    <tr>\n",
       "      <th>1</th>\n",
       "      <td>24.19</td>\n",
       "      <td>27.31</td>\n",
       "    </tr>\n",
       "    <tr>\n",
       "      <th>2</th>\n",
       "      <td>36.35</td>\n",
       "      <td>35.50</td>\n",
       "    </tr>\n",
       "    <tr>\n",
       "      <th>3</th>\n",
       "      <td>23.37</td>\n",
       "      <td>23.77</td>\n",
       "    </tr>\n",
       "    <tr>\n",
       "      <th>4</th>\n",
       "      <td>25.69</td>\n",
       "      <td>25.63</td>\n",
       "    </tr>\n",
       "    <tr>\n",
       "      <th>...</th>\n",
       "      <td>...</td>\n",
       "      <td>...</td>\n",
       "    </tr>\n",
       "    <tr>\n",
       "      <th>2557898</th>\n",
       "      <td>29.00</td>\n",
       "      <td>25.83</td>\n",
       "    </tr>\n",
       "    <tr>\n",
       "      <th>2557899</th>\n",
       "      <td>22.18</td>\n",
       "      <td>18.10</td>\n",
       "    </tr>\n",
       "    <tr>\n",
       "      <th>2557900</th>\n",
       "      <td>21.16</td>\n",
       "      <td>21.76</td>\n",
       "    </tr>\n",
       "    <tr>\n",
       "      <th>2557901</th>\n",
       "      <td>14.46</td>\n",
       "      <td>15.01</td>\n",
       "    </tr>\n",
       "    <tr>\n",
       "      <th>2557902</th>\n",
       "      <td>39.85</td>\n",
       "      <td>37.75</td>\n",
       "    </tr>\n",
       "  </tbody>\n",
       "</table>\n",
       "<p>2557903 rows × 2 columns</p>\n",
       "</div>"
      ],
      "text/plain": [
       "         Actual  Predicted\n",
       "0         38.10      41.65\n",
       "1         24.19      27.31\n",
       "2         36.35      35.50\n",
       "3         23.37      23.77\n",
       "4         25.69      25.63\n",
       "...         ...        ...\n",
       "2557898   29.00      25.83\n",
       "2557899   22.18      18.10\n",
       "2557900   21.16      21.76\n",
       "2557901   14.46      15.01\n",
       "2557902   39.85      37.75\n",
       "\n",
       "[2557903 rows x 2 columns]"
      ]
     },
     "execution_count": 34,
     "metadata": {},
     "output_type": "execute_result"
    }
   ],
   "source": [
    "# Generating prediction for Decission Tree Regressor model\n",
    "predictions = pd.DataFrame({'Actual': y_test.flatten(), 'Predicted': dt_regression_trips.flatten()})\n",
    "predictions"
   ]
  },
  {
   "cell_type": "code",
   "execution_count": 35,
   "metadata": {
    "application/vnd.databricks.v1+cell": {
     "cellMetadata": {
      "byteLimit": 2048000,
      "rowLimit": 10000
     },
     "inputWidgets": {},
     "nuid": "87f047fb-aaaa-4187-899b-31126210520d",
     "showTitle": false,
     "title": ""
    }
   },
   "outputs": [
    {
     "data": {
      "image/png": "[encoded data removed]",
      "text/plain": [
       "<Figure size 1400x800 with 1 Axes>"
      ]
     },
     "metadata": {},
     "output_type": "display_data"
    }
   ],
   "source": [
    "predictions.sample(20).plot(kind='bar',figsize=(14,8))\n",
    "plt.grid(which='major', linestyle='-', linewidth='0.5', color='green')\n",
    "plt.grid(which='minor', linestyle=':', linewidth='0.5', color='black')\n",
    "plt.show()"
   ]
  },
  {
   "cell_type": "code",
   "execution_count": 36,
   "metadata": {
    "application/vnd.databricks.v1+cell": {
     "cellMetadata": {
      "byteLimit": 2048000,
      "rowLimit": 10000
     },
     "inputWidgets": {},
     "nuid": "f1d3bf4f-c77a-43f5-ad7a-69432afd3d19",
     "showTitle": false,
     "title": ""
    }
   },
   "outputs": [
    {
     "name": "stdout",
     "output_type": "stream",
     "text": [
      "0.7646756159427249\n"
     ]
    }
   ],
   "source": [
    "#Getting The R Squared Value\n",
    "dt_score = r2_score(y_test, dt_regression_trips)\n",
    "print(dt_score)"
   ]
  },
  {
   "cell_type": "code",
   "execution_count": 37,
   "metadata": {
    "application/vnd.databricks.v1+cell": {
     "cellMetadata": {
      "byteLimit": 2048000,
      "rowLimit": 10000
     },
     "inputWidgets": {},
     "nuid": "1ae79e49-eaf6-4588-8649-f4ce8bd6a2e5",
     "showTitle": false,
     "title": ""
    }
   },
   "outputs": [
    {
     "name": "stdout",
     "output_type": "stream",
     "text": [
      "Time taken to train AdaBoost model : 333.1220588684082 seconds\n"
     ]
    }
   ],
   "source": [
    "# Running The AdaBoostRegressor model\n",
    "start_time = time.time()\n",
    "ada_regression = AdaBoostRegressor()\n",
    "ada_regression = ada_regression.fit(x_train, y_train)\n",
    "end_time = time.time()\n",
    "ad_time = (end_time - start_time)\n",
    "print(f\"Time taken to train AdaBoost model : {ad_time} seconds\")"
   ]
  },
  {
   "cell_type": "code",
   "execution_count": 38,
   "metadata": {
    "application/vnd.databricks.v1+cell": {
     "cellMetadata": {
      "byteLimit": 2048000,
      "rowLimit": 10000
     },
     "inputWidgets": {},
     "nuid": "343646da-db9d-47cf-9211-71b9c2fe44b9",
     "showTitle": false,
     "title": ""
    }
   },
   "outputs": [],
   "source": [
    "ada_trips = ada_regression.predict(x_test)"
   ]
  },
  {
   "cell_type": "code",
   "execution_count": 39,
   "metadata": {
    "application/vnd.databricks.v1+cell": {
     "cellMetadata": {
      "byteLimit": 2048000,
      "rowLimit": 10000
     },
     "inputWidgets": {},
     "nuid": "cff37736-1d3f-4d74-a75b-42baf7d6cb10",
     "showTitle": false,
     "title": ""
    }
   },
   "outputs": [
    {
     "data": {
      "text/html": [
       "<div>\n",
       "<style scoped>\n",
       "    .dataframe tbody tr th:only-of-type {\n",
       "        vertical-align: middle;\n",
       "    }\n",
       "\n",
       "    .dataframe tbody tr th {\n",
       "        vertical-align: top;\n",
       "    }\n",
       "\n",
       "    .dataframe thead th {\n",
       "        text-align: right;\n",
       "    }\n",
       "</style>\n",
       "<table border=\"1\" class=\"dataframe\">\n",
       "  <thead>\n",
       "    <tr style=\"text-align: right;\">\n",
       "      <th></th>\n",
       "      <th>Actual</th>\n",
       "      <th>Predicted</th>\n",
       "    </tr>\n",
       "  </thead>\n",
       "  <tbody>\n",
       "    <tr>\n",
       "      <th>0</th>\n",
       "      <td>38.10</td>\n",
       "      <td>32.816921</td>\n",
       "    </tr>\n",
       "    <tr>\n",
       "      <th>1</th>\n",
       "      <td>24.19</td>\n",
       "      <td>27.627255</td>\n",
       "    </tr>\n",
       "    <tr>\n",
       "      <th>2</th>\n",
       "      <td>36.35</td>\n",
       "      <td>31.895046</td>\n",
       "    </tr>\n",
       "    <tr>\n",
       "      <th>3</th>\n",
       "      <td>23.37</td>\n",
       "      <td>31.895046</td>\n",
       "    </tr>\n",
       "    <tr>\n",
       "      <th>4</th>\n",
       "      <td>25.69</td>\n",
       "      <td>32.816921</td>\n",
       "    </tr>\n",
       "    <tr>\n",
       "      <th>...</th>\n",
       "      <td>...</td>\n",
       "      <td>...</td>\n",
       "    </tr>\n",
       "    <tr>\n",
       "      <th>2557898</th>\n",
       "      <td>29.00</td>\n",
       "      <td>31.895046</td>\n",
       "    </tr>\n",
       "    <tr>\n",
       "      <th>2557899</th>\n",
       "      <td>22.18</td>\n",
       "      <td>27.627255</td>\n",
       "    </tr>\n",
       "    <tr>\n",
       "      <th>2557900</th>\n",
       "      <td>21.16</td>\n",
       "      <td>30.690695</td>\n",
       "    </tr>\n",
       "    <tr>\n",
       "      <th>2557901</th>\n",
       "      <td>14.46</td>\n",
       "      <td>27.627255</td>\n",
       "    </tr>\n",
       "    <tr>\n",
       "      <th>2557902</th>\n",
       "      <td>39.85</td>\n",
       "      <td>44.862551</td>\n",
       "    </tr>\n",
       "  </tbody>\n",
       "</table>\n",
       "<p>2557903 rows × 2 columns</p>\n",
       "</div>"
      ],
      "text/plain": [
       "         Actual  Predicted\n",
       "0         38.10  32.816921\n",
       "1         24.19  27.627255\n",
       "2         36.35  31.895046\n",
       "3         23.37  31.895046\n",
       "4         25.69  32.816921\n",
       "...         ...        ...\n",
       "2557898   29.00  31.895046\n",
       "2557899   22.18  27.627255\n",
       "2557900   21.16  30.690695\n",
       "2557901   14.46  27.627255\n",
       "2557902   39.85  44.862551\n",
       "\n",
       "[2557903 rows x 2 columns]"
      ]
     },
     "execution_count": 39,
     "metadata": {},
     "output_type": "execute_result"
    }
   ],
   "source": [
    "predictions = pd.DataFrame({'Actual': y_test.flatten(), 'Predicted': ada_trips.flatten()})\n",
    "predictions"
   ]
  },
  {
   "cell_type": "code",
   "execution_count": 40,
   "metadata": {
    "application/vnd.databricks.v1+cell": {
     "cellMetadata": {
      "byteLimit": 2048000,
      "rowLimit": 10000
     },
     "inputWidgets": {},
     "nuid": "6378609d-176a-407e-bd36-a3178ab3ce3c",
     "showTitle": false,
     "title": ""
    }
   },
   "outputs": [
    {
     "data": {
      "image/png": "[encoded data removed]",
      "text/plain": [
       "<Figure size 1400x800 with 1 Axes>"
      ]
     },
     "metadata": {},
     "output_type": "display_data"
    }
   ],
   "source": [
    "predictions.sample(20).plot(kind='bar',figsize=(14,8))\n",
    "plt.grid(which='major', linestyle='-', linewidth='0.5', color='green')\n",
    "plt.grid(which='minor', linestyle=':', linewidth='0.5', color='black')\n",
    "plt.show()"
   ]
  },
  {
   "cell_type": "code",
   "execution_count": 41,
   "metadata": {
    "application/vnd.databricks.v1+cell": {
     "cellMetadata": {
      "byteLimit": 2048000,
      "rowLimit": 10000
     },
     "inputWidgets": {},
     "nuid": "e2152b98-6b12-40d6-9e26-0c12fb19d00f",
     "showTitle": false,
     "title": ""
    }
   },
   "outputs": [
    {
     "name": "stdout",
     "output_type": "stream",
     "text": [
      "0.7990506377336507\n"
     ]
    }
   ],
   "source": [
    "#Getting The R Squared Value\n",
    "ad_score = r2_score(y_test, ada_trips)\n",
    "print(ad_score)"
   ]
  },
  {
   "cell_type": "code",
   "execution_count": 42,
   "metadata": {
    "application/vnd.databricks.v1+cell": {
     "cellMetadata": {
      "byteLimit": 2048000,
      "rowLimit": 10000
     },
     "inputWidgets": {},
     "nuid": "c07e62eb-162f-4b1a-bda5-76ae4bb3593b",
     "showTitle": false,
     "title": ""
    }
   },
   "outputs": [
    {
     "name": "stdout",
     "output_type": "stream",
     "text": [
      "Time taken to train Gradient Boost model : 1531.2313694953918 seconds\n"
     ]
    }
   ],
   "source": [
    "# Running The GradientBoostRegressor model\n",
    "start_time = time.time()\n",
    "gd_regression = GradientBoostingRegressor()\n",
    "gd_regression = gd_regression.fit(x_train, y_train)\n",
    "end_time = time.time()\n",
    "gd_time = (end_time - start_time)\n",
    "print(f\"Time taken to train Gradient Boost model : {gd_time} seconds\")"
   ]
  },
  {
   "cell_type": "code",
   "execution_count": 43,
   "metadata": {
    "application/vnd.databricks.v1+cell": {
     "cellMetadata": {
      "byteLimit": 2048000,
      "rowLimit": 10000
     },
     "inputWidgets": {},
     "nuid": "7389e8d9-fd38-4ec9-a3f3-a9ea470caf02",
     "showTitle": false,
     "title": ""
    }
   },
   "outputs": [],
   "source": [
    "gd_trips = gd_regression.predict(x_test)"
   ]
  },
  {
   "cell_type": "code",
   "execution_count": 44,
   "metadata": {
    "application/vnd.databricks.v1+cell": {
     "cellMetadata": {
      "byteLimit": 2048000,
      "rowLimit": 10000
     },
     "inputWidgets": {},
     "nuid": "c1e120d3-fdf0-4759-941c-0d79aecc8b51",
     "showTitle": false,
     "title": ""
    }
   },
   "outputs": [
    {
     "data": {
      "text/html": [
       "<div>\n",
       "<style scoped>\n",
       "    .dataframe tbody tr th:only-of-type {\n",
       "        vertical-align: middle;\n",
       "    }\n",
       "\n",
       "    .dataframe tbody tr th {\n",
       "        vertical-align: top;\n",
       "    }\n",
       "\n",
       "    .dataframe thead th {\n",
       "        text-align: right;\n",
       "    }\n",
       "</style>\n",
       "<table border=\"1\" class=\"dataframe\">\n",
       "  <thead>\n",
       "    <tr style=\"text-align: right;\">\n",
       "      <th></th>\n",
       "      <th>Actual</th>\n",
       "      <th>Predicted</th>\n",
       "    </tr>\n",
       "  </thead>\n",
       "  <tbody>\n",
       "    <tr>\n",
       "      <th>0</th>\n",
       "      <td>38.10</td>\n",
       "      <td>44.107137</td>\n",
       "    </tr>\n",
       "    <tr>\n",
       "      <th>1</th>\n",
       "      <td>24.19</td>\n",
       "      <td>23.813498</td>\n",
       "    </tr>\n",
       "    <tr>\n",
       "      <th>2</th>\n",
       "      <td>36.35</td>\n",
       "      <td>37.233190</td>\n",
       "    </tr>\n",
       "    <tr>\n",
       "      <th>3</th>\n",
       "      <td>23.37</td>\n",
       "      <td>23.641803</td>\n",
       "    </tr>\n",
       "    <tr>\n",
       "      <th>4</th>\n",
       "      <td>25.69</td>\n",
       "      <td>33.215073</td>\n",
       "    </tr>\n",
       "    <tr>\n",
       "      <th>...</th>\n",
       "      <td>...</td>\n",
       "      <td>...</td>\n",
       "    </tr>\n",
       "    <tr>\n",
       "      <th>2557898</th>\n",
       "      <td>29.00</td>\n",
       "      <td>32.023550</td>\n",
       "    </tr>\n",
       "    <tr>\n",
       "      <th>2557899</th>\n",
       "      <td>22.18</td>\n",
       "      <td>21.032382</td>\n",
       "    </tr>\n",
       "    <tr>\n",
       "      <th>2557900</th>\n",
       "      <td>21.16</td>\n",
       "      <td>23.842177</td>\n",
       "    </tr>\n",
       "    <tr>\n",
       "      <th>2557901</th>\n",
       "      <td>14.46</td>\n",
       "      <td>17.260682</td>\n",
       "    </tr>\n",
       "    <tr>\n",
       "      <th>2557902</th>\n",
       "      <td>39.85</td>\n",
       "      <td>38.647636</td>\n",
       "    </tr>\n",
       "  </tbody>\n",
       "</table>\n",
       "<p>2557903 rows × 2 columns</p>\n",
       "</div>"
      ],
      "text/plain": [
       "         Actual  Predicted\n",
       "0         38.10  44.107137\n",
       "1         24.19  23.813498\n",
       "2         36.35  37.233190\n",
       "3         23.37  23.641803\n",
       "4         25.69  33.215073\n",
       "...         ...        ...\n",
       "2557898   29.00  32.023550\n",
       "2557899   22.18  21.032382\n",
       "2557900   21.16  23.842177\n",
       "2557901   14.46  17.260682\n",
       "2557902   39.85  38.647636\n",
       "\n",
       "[2557903 rows x 2 columns]"
      ]
     },
     "execution_count": 44,
     "metadata": {},
     "output_type": "execute_result"
    }
   ],
   "source": [
    "predictions = pd.DataFrame({'Actual': y_test.flatten(), 'Predicted': gd_trips.flatten()})\n",
    "predictions"
   ]
  },
  {
   "cell_type": "code",
   "execution_count": 45,
   "metadata": {
    "application/vnd.databricks.v1+cell": {
     "cellMetadata": {
      "byteLimit": 2048000,
      "rowLimit": 10000
     },
     "inputWidgets": {},
     "nuid": "6abebe59-d484-45f5-9ee3-3fadba70bd4e",
     "showTitle": false,
     "title": ""
    }
   },
   "outputs": [
    {
     "data": {
      "image/png": "[encoded data removed]",
      "text/plain": [
       "<Figure size 1400x800 with 1 Axes>"
      ]
     },
     "metadata": {},
     "output_type": "display_data"
    }
   ],
   "source": [
    "predictions.sample(20).plot(kind='bar',figsize=(14,8))\n",
    "plt.grid(which='major', linestyle='-', linewidth='0.5', color='green')\n",
    "plt.grid(which='minor', linestyle=':', linewidth='0.5', color='black')\n",
    "plt.show()"
   ]
  },
  {
   "cell_type": "code",
   "execution_count": 46,
   "metadata": {
    "application/vnd.databricks.v1+cell": {
     "cellMetadata": {
      "byteLimit": 2048000,
      "rowLimit": 10000
     },
     "inputWidgets": {},
     "nuid": "fdb6aed3-f695-4ac5-bcb2-e913fd53a492",
     "showTitle": false,
     "title": ""
    }
   },
   "outputs": [
    {
     "name": "stdout",
     "output_type": "stream",
     "text": [
      "0.8762103236854984\n"
     ]
    }
   ],
   "source": [
    "#Getting The R Squared Value\n",
    "gd_score = r2_score(y_test, gd_trips)\n",
    "print(gd_score)"
   ]
  },
  {
   "cell_type": "code",
   "execution_count": 47,
   "metadata": {
    "application/vnd.databricks.v1+cell": {
     "cellMetadata": {
      "byteLimit": 2048000,
      "rowLimit": 10000
     },
     "inputWidgets": {},
     "nuid": "4bbcde47-9c92-4c27-8c07-12b62ce95b69",
     "showTitle": false,
     "title": ""
    }
   },
   "outputs": [
    {
     "name": "stdout",
     "output_type": "stream",
     "text": [
      "Time taken to train XGBoost  model : 77.16423273086548 seconds\n"
     ]
    }
   ],
   "source": [
    "# Running The XGBRegressor model\n",
    "start_time = time.time()\n",
    "xgb_regression = XGBRegressor(objective ='reg:squarederror')\n",
    "xgb_regression = xgb_regression.fit(x_train, y_train)\n",
    "end_time = time.time()\n",
    "xgb_time = (end_time - start_time)\n",
    "print(f\"Time taken to train XGBoost  model : {xgb_time} seconds\")"
   ]
  },
  {
   "cell_type": "code",
   "execution_count": 48,
   "metadata": {
    "application/vnd.databricks.v1+cell": {
     "cellMetadata": {
      "byteLimit": 2048000,
      "rowLimit": 10000
     },
     "inputWidgets": {},
     "nuid": "ac9d97da-d3d8-45e2-a6c0-b1eace2e6e31",
     "showTitle": false,
     "title": ""
    }
   },
   "outputs": [],
   "source": [
    "XGB_trips = xgb_regression.predict(x_test)"
   ]
  },
  {
   "cell_type": "code",
   "execution_count": 49,
   "metadata": {
    "application/vnd.databricks.v1+cell": {
     "cellMetadata": {
      "byteLimit": 2048000,
      "rowLimit": 10000
     },
     "inputWidgets": {},
     "nuid": "8182b310-0c52-4f17-b63d-5600863728db",
     "showTitle": false,
     "title": ""
    }
   },
   "outputs": [
    {
     "data": {
      "text/html": [
       "<div>\n",
       "<style scoped>\n",
       "    .dataframe tbody tr th:only-of-type {\n",
       "        vertical-align: middle;\n",
       "    }\n",
       "\n",
       "    .dataframe tbody tr th {\n",
       "        vertical-align: top;\n",
       "    }\n",
       "\n",
       "    .dataframe thead th {\n",
       "        text-align: right;\n",
       "    }\n",
       "</style>\n",
       "<table border=\"1\" class=\"dataframe\">\n",
       "  <thead>\n",
       "    <tr style=\"text-align: right;\">\n",
       "      <th></th>\n",
       "      <th>Actual</th>\n",
       "      <th>Predicted</th>\n",
       "    </tr>\n",
       "  </thead>\n",
       "  <tbody>\n",
       "    <tr>\n",
       "      <th>0</th>\n",
       "      <td>38.10</td>\n",
       "      <td>42.344780</td>\n",
       "    </tr>\n",
       "    <tr>\n",
       "      <th>1</th>\n",
       "      <td>24.19</td>\n",
       "      <td>27.997890</td>\n",
       "    </tr>\n",
       "    <tr>\n",
       "      <th>2</th>\n",
       "      <td>36.35</td>\n",
       "      <td>36.161201</td>\n",
       "    </tr>\n",
       "    <tr>\n",
       "      <th>3</th>\n",
       "      <td>23.37</td>\n",
       "      <td>22.383575</td>\n",
       "    </tr>\n",
       "    <tr>\n",
       "      <th>4</th>\n",
       "      <td>25.69</td>\n",
       "      <td>29.033096</td>\n",
       "    </tr>\n",
       "    <tr>\n",
       "      <th>...</th>\n",
       "      <td>...</td>\n",
       "      <td>...</td>\n",
       "    </tr>\n",
       "    <tr>\n",
       "      <th>2557898</th>\n",
       "      <td>29.00</td>\n",
       "      <td>29.803926</td>\n",
       "    </tr>\n",
       "    <tr>\n",
       "      <th>2557899</th>\n",
       "      <td>22.18</td>\n",
       "      <td>20.553808</td>\n",
       "    </tr>\n",
       "    <tr>\n",
       "      <th>2557900</th>\n",
       "      <td>21.16</td>\n",
       "      <td>21.281849</td>\n",
       "    </tr>\n",
       "    <tr>\n",
       "      <th>2557901</th>\n",
       "      <td>14.46</td>\n",
       "      <td>15.548802</td>\n",
       "    </tr>\n",
       "    <tr>\n",
       "      <th>2557902</th>\n",
       "      <td>39.85</td>\n",
       "      <td>44.540565</td>\n",
       "    </tr>\n",
       "  </tbody>\n",
       "</table>\n",
       "<p>2557903 rows × 2 columns</p>\n",
       "</div>"
      ],
      "text/plain": [
       "         Actual  Predicted\n",
       "0         38.10  42.344780\n",
       "1         24.19  27.997890\n",
       "2         36.35  36.161201\n",
       "3         23.37  22.383575\n",
       "4         25.69  29.033096\n",
       "...         ...        ...\n",
       "2557898   29.00  29.803926\n",
       "2557899   22.18  20.553808\n",
       "2557900   21.16  21.281849\n",
       "2557901   14.46  15.548802\n",
       "2557902   39.85  44.540565\n",
       "\n",
       "[2557903 rows x 2 columns]"
      ]
     },
     "execution_count": 49,
     "metadata": {},
     "output_type": "execute_result"
    }
   ],
   "source": [
    "predictions = pd.DataFrame({'Actual': y_test.flatten(), 'Predicted': XGB_trips.flatten()})\n",
    "predictions"
   ]
  },
  {
   "cell_type": "code",
   "execution_count": 50,
   "metadata": {
    "application/vnd.databricks.v1+cell": {
     "cellMetadata": {
      "byteLimit": 2048000,
      "rowLimit": 10000
     },
     "inputWidgets": {},
     "nuid": "9f81ae53-e214-417a-8449-14ae8fb00291",
     "showTitle": false,
     "title": ""
    }
   },
   "outputs": [
    {
     "data": {
      "image/png": "[encoded data removed]",
      "text/plain": [
       "<Figure size 1400x800 with 1 Axes>"
      ]
     },
     "metadata": {},
     "output_type": "display_data"
    }
   ],
   "source": [
    "predictions.sample(20).plot(kind='bar',figsize=(14,8))\n",
    "plt.grid(which='major', linestyle='-', linewidth='0.5', color='green')\n",
    "plt.grid(which='minor', linestyle=':', linewidth='0.5', color='black')\n",
    "plt.show()"
   ]
  },
  {
   "cell_type": "code",
   "execution_count": 51,
   "metadata": {
    "application/vnd.databricks.v1+cell": {
     "cellMetadata": {
      "byteLimit": 2048000,
      "rowLimit": 10000
     },
     "inputWidgets": {},
     "nuid": "8e8a30de-0c02-4624-b317-4bbe9110698d",
     "showTitle": false,
     "title": ""
    }
   },
   "outputs": [
    {
     "name": "stdout",
     "output_type": "stream",
     "text": [
      "0.8892512325508417\n"
     ]
    }
   ],
   "source": [
    "#Getting The R Squared Value\n",
    "xgb_score = r2_score(y_test, XGB_trips)\n",
    "print(xgb_score)"
   ]
  },
  {
   "cell_type": "code",
   "execution_count": 52,
   "metadata": {
    "application/vnd.databricks.v1+cell": {
     "cellMetadata": {
      "byteLimit": 2048000,
      "rowLimit": 10000
     },
     "inputWidgets": {},
     "nuid": "91910fae-c799-4694-81dc-154935d6ea27",
     "showTitle": false,
     "title": ""
    }
   },
   "outputs": [],
   "source": [
    "# Creating Accuracy and Time Dataframe\n",
    "r2 = [lm_score, dt_score, ad_score, gd_score, xgb_score]\n",
    "tm = [lm_time, dt_time, ad_time, gd_time, xgb_time]\n",
    "comp = pd.DataFrame({'Time': tm, 'Accu': r2})"
   ]
  },
  {
   "cell_type": "code",
   "execution_count": 53,
   "metadata": {
    "application/vnd.databricks.v1+cell": {
     "cellMetadata": {
      "byteLimit": 2048000,
      "rowLimit": 10000
     },
     "inputWidgets": {},
     "nuid": "d274604b-ca48-4d9c-b875-dc816ffcdf63",
     "showTitle": false,
     "title": ""
    }
   },
   "outputs": [
    {
     "data": {
      "image/png": "[encoded data removed]",
      "text/plain": [
       "<Figure size 1200x500 with 2 Axes>"
      ]
     },
     "metadata": {},
     "output_type": "display_data"
    }
   ],
   "source": [
    "# Comparing All models based on time taken to implement and Accuracy\n",
    "\n",
    "label = ['LM', 'DT', 'ADB', 'GDB', 'XGB']\n",
    "fig, axes = plt.subplots(nrows=1, ncols=2,figsize=(12,5))\n",
    "ax = comp['Time'].plot(kind='bar',title=\"Time\",ax=axes[0],color = (1, 0.5, 0.13))\n",
    "ax1 = comp['Accu'].plot(kind='bar',title=\"Accuarcy\",ax=axes[1])\n",
    "ax.set_ylabel(\"Time (secs)\")\n",
    "ax.set_xlabel('Models')\n",
    "ax.set_xticklabels(label)\n",
    "ax1.set_ylabel(\"Accuracy\")\n",
    "ax1.set_xlabel('Models')\n",
    "ax1.set_xticklabels(label)\n",
    "fig.tight_layout()"
   ]
  },
  {
   "cell_type": "code",
   "execution_count": 54,
   "metadata": {
    "application/vnd.databricks.v1+cell": {
     "cellMetadata": {
      "byteLimit": 2048000,
      "rowLimit": 10000
     },
     "inputWidgets": {},
     "nuid": "6e651ba3-915b-4953-aefe-e8bafa0cbb1c",
     "showTitle": false,
     "title": ""
    }
   },
   "outputs": [
    {
     "name": "stdout",
     "output_type": "stream",
     "text": [
      "Your estimated fare is $ 70.06\n"
     ]
    }
   ],
   "source": [
    "Distance = 1.9\n",
    "PULocationID = 138\n",
    "DOLocationID = 7\n",
    "WeekDay = 6\n",
    "Hour = 7\n",
    "\n",
    "answer = xgb_regression.predict([[Distance,PULocationID,DOLocationID,WeekDay,Hour]])\n",
    "predicted_fare = [\"%.2f\"% elem for elem in answer]\n",
    "\n",
    "if PULocationID == 132:\n",
    "    predictedfare = float(predicted_fare[0])\n",
    "    fare= predictedfare + 1.25\n",
    "    print(f'Your estimated fare is $',fare)\n",
    "elif PULocationID == 138:\n",
    "    predictedfare = float(predicted_fare[0])\n",
    "    fare= predictedfare + 1.25\n",
    "    print(f'Your estimated fare is $',fare)\n",
    "else:\n",
    "    print(f'Your estimated fare is $',predicted_fare[0])"
   ]
  }
 ],
 "metadata": {
  "application/vnd.databricks.v1+notebook": {
   "dashboards": [],
   "language": "python",
   "notebookMetadata": {
    "mostRecentlyExecutedCommandWithImplicitDF": {
     "commandId": 3708141278457677,
     "dataframes": [
      "_sqldf"
     ]
    },
    "pythonIndentUnit": 4
   },
   "notebookName": "2023-05-14 - DBFS Example second",
   "widgets": {}
  },
  "kernelspec": {
   "display_name": "Python 3 (ipykernel)",
   "language": "python",
   "name": "python3"
  },
  "language_info": {
   "codemirror_mode": {
    "name": "ipython",
    "version": 3
   },
   "file_extension": ".py",
   "mimetype": "text/x-python",
   "name": "python",
   "nbconvert_exporter": "python",
   "pygments_lexer": "ipython3",
   "version": "3.9.16"
  }
 },
 "nbformat": 4,
 "nbformat_minor": 1
}
